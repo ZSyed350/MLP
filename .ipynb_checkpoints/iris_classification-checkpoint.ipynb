{
 "cells": [
  {
   "cell_type": "code",
   "execution_count": 1,
   "id": "5d461f86-c695-4321-93a4-09ff42bb61f0",
   "metadata": {},
   "outputs": [],
   "source": [
    "# Imports\n",
    "\n",
    "import random\n",
    "import numpy as np\n",
    "from sklearn.datasets import load_iris\n",
    "import pandas as pd\n",
    "import sklearn.model_selection\n",
    "from sklearn.preprocessing import StandardScaler"
   ]
  },
  {
   "cell_type": "code",
   "execution_count": 2,
   "id": "028d5cab-e7b3-4106-ad22-38c83f4df33e",
   "metadata": {},
   "outputs": [],
   "source": [
    "# Declare constants\n",
    "\n",
    "NUM_INPUT_NODES = 4\n",
    "NUM_OUTPUT_NODES = 3\n",
    "NUM_HIDDEN_NODES = 11\n",
    "NUM_HIDDEN_LAYERS = 1"
   ]
  },
  {
   "cell_type": "code",
   "execution_count": 3,
   "id": "abf6ac32-30cd-4fa9-86a7-bc7ab0776dbb",
   "metadata": {},
   "outputs": [],
   "source": [
    "class Node:\n",
    "    \"\"\"Each node has a weight and bias\"\"\"\n",
    "    def __init__(self, num_weights):\n",
    "        \"\"\"\n",
    "        num_weights: the number of nodes in the previous layer\n",
    "        \"\"\"\n",
    "        self.z = 0\n",
    "        self.activation = 0\n",
    "        self.weights = [random.uniform(0, 0.01) for _ in range(num_weights)]\n",
    "        self.bias = random.uniform(0.0, 0.01)\n",
    "\n",
    "# Consider using a separate class for input node, not necessary\n",
    "class InputNode:\n",
    "    def __init__(self):\n",
    "        self.activation = 0"
   ]
  },
  {
   "cell_type": "code",
   "execution_count": 4,
   "id": "e8bfe392-6c85-42fc-9154-301d439d5a39",
   "metadata": {},
   "outputs": [],
   "source": [
    "# activation functions\n",
    "\n",
    "def relu(x):\n",
    "    return np.maximum(0, x)\n",
    "\n",
    "def sigmoid(x):\n",
    "    return 1 / (1 + np.exp(-x))\n",
    "\n",
    "def tanh(x):\n",
    "    return np.tanh(x)\n",
    "\n",
    "def leaky_relu(x, alpha=0.01):\n",
    "    return max(alpha * x, x)\n",
    "\n",
    "def softmax(logits):\n",
    "    exp_logits = np.exp(logits - np.max(logits))  # for numerical stability\n",
    "    return exp_logits / np.sum(exp_logits, axis=0)\n",
    "\n",
    "def relu_derivative(x):\n",
    "    return np.where(x > 0, 1, 0)\n",
    "\n",
    "def sigmoid_derivative(x):\n",
    "    return x * (1 - x)\n",
    "\n",
    "def leaky_relu_derivative(x, alpha=0.01):\n",
    "    return np.where(x > 0, 1, alpha)"
   ]
  },
  {
   "cell_type": "code",
   "execution_count": 5,
   "id": "3a0c3080-e897-4d8a-ace4-3cb9ece0be48",
   "metadata": {},
   "outputs": [],
   "source": [
    "class MLP:\n",
    "    \"Create a multilayer perceptron\"\n",
    "    def __init__(self, n_in, n_out, n_hidden, hidden_layers):\n",
    "        self.n_hidden_layers = hidden_layers;\n",
    "        self.nodes = []\n",
    "        self.create(n_in, n_out, n_hidden)\n",
    "        self.gradient = []\n",
    "\n",
    "    def create(self, n_in, n_out, n_hidden):\n",
    "        nodes = []\n",
    "        \n",
    "        input_layer = [InputNode() for _ in range(n_in)]\n",
    "        nodes.append(input_layer)\n",
    "        \n",
    "        for i in range(self.n_hidden_layers):\n",
    "            nodes.append([Node(num_weights=n_in) for _ in range(n_hidden)])\n",
    "            \n",
    "        output_layer = [Node(num_weights=n_hidden) for _ in range(n_out)]\n",
    "        nodes.append(output_layer)\n",
    "        \n",
    "        self.nodes = nodes\n",
    "\n",
    "    def forward_pass(self, X_row, y_row):\n",
    "        # input layer\n",
    "        for i, input_node in enumerate(self.nodes[0]):\n",
    "            input_node.activation = X_row[i]\n",
    "\n",
    "        # input layer to hidden layer\n",
    "        for L in range(1, self.n_hidden_layers + 1):  # note +1 must be used bc the range is not inclusive of upper\n",
    "            for node_j in self.nodes[L]:\n",
    "                node_j.z = sum(node_k.activation * node_j.weights[k] for k, node_k in enumerate(self.nodes[L - 1])) + node_j.bias\n",
    "                node_j.activation = leaky_relu(node_j.z)\n",
    "\n",
    "        # calculate z of output layer\n",
    "        for output_node_j in self.nodes[-1]:\n",
    "            output_node_j.z = sum(node_k.activation * output_node_j.weights[k] for k, node_k in enumerate(self.nodes[-2])) + output_node_j.bias\n",
    "\n",
    "        # apply softmax to output layer activations as a vector\n",
    "        softmax_output = softmax([output_node.z for output_node in self.nodes[-1]])\n",
    "        \n",
    "        #update activations of output layer\n",
    "        for j, output_node_j in enumerate(self.nodes[-1]):\n",
    "            output_node_j.activation = softmax_output[j]\n",
    "\n",
    "        output = [node.activation for node in mlp.nodes[-1]]\n",
    "        error = np.mean(abs(output - y_row))\n",
    "        return output, error\n",
    "\n",
    "    def compute_gradient(self, y):\n",
    "        ohw = []  # contains partial derivative of cost w respect to weights btwn output and hidden\n",
    "        ohb = []  # contains partial derivative of cost w respect to biases btwn output and hidden\n",
    "        hiw = []  # contains partial derivative of cost w respect to weights btwn hidden and input\n",
    "        hib = []  # contains partial derivative of cost w respect to biases btwn hidden and input\n",
    "\n",
    "        # weights btwn output and hidden \n",
    "        for j, output_node_j in enumerate(self.nodes[-1]):\n",
    "            for k, weight_jk in enumerate(output_node_j.weights):\n",
    "                a_k = self.nodes[-2][k].activation\n",
    "                z_j = output_node_j.z\n",
    "                a_j = output_node_j.activation\n",
    "                partial = a_k * leaky_relu_derivative(z_j) * 2 * (a_j - y[j])\n",
    "                ohw.append(partial)\n",
    "                \n",
    "        # biases btwn output and hidden\n",
    "        for j, output_node_j in enumerate(self.nodes[-1]):\n",
    "            z_j = output_node_j.z\n",
    "            a_j = output_node_j.activation\n",
    "            partial = leaky_relu_derivative(z_j) * 2 * (a_j - y[j])\n",
    "            ohb.append(partial)\n",
    "\n",
    "        # weights btwn hidden and input\n",
    "        for L in range(1, self.n_hidden_layers + 1):  # note +1 must be used bc the range is not inclusive of upper\n",
    "            for j, hidden_node_j in enumerate(self.nodes[L]):\n",
    "                for k, weight_jk in enumerate(hidden_node_j.weights):\n",
    "                    # notice it uses the updated weight from the output layer, recursive\n",
    "                    partialC_partiala_j = sum([output_node.weights[j] * leaky_relu_derivative(output_node.z) * 2 * (output_node.activation - y[i]) for i, output_node in enumerate(self.nodes[L+1])])    \n",
    "                    a_k = self.nodes[L-1][k].activation\n",
    "                    z_j = hidden_node_j.z\n",
    "                    partial = a_k * leaky_relu_derivative(z_j) * partialC_partiala_j\n",
    "                    hiw.append(partial)\n",
    "\n",
    "        # biases btwn hidden and input\n",
    "        for L in range(1, self.n_hidden_layers + 1):  # note +1 must be used bc the range is not inclusive of upper\n",
    "            for j, hidden_node_j in enumerate(self.nodes[L]):\n",
    "                # notice it uses the updated weight from the output layer, recursive\n",
    "                partialC_partiala_j = sum([output_node.weights[j] * leaky_relu_derivative(output_node.z) * 2 * (output_node.activation - y[i]) for i, output_node in enumerate(self.nodes[L+1])])    \n",
    "                a_k = self.nodes[L-1][k].activation\n",
    "                z_j = hidden_node_j.z\n",
    "                partial = leaky_relu_derivative(z_j) * partialC_partiala_j\n",
    "                hib.append(partial)\n",
    "        self.gradient = []\n",
    "        self.gradient.append(ohw)\n",
    "        self.gradient.append(ohb)\n",
    "        self.gradient.append(hiw)\n",
    "        self.gradient.append(hib)\n",
    "\n",
    "    def update(self, eta):\n",
    "        indexer = 0  # gradient indexer\n",
    "        \n",
    "        # update weights between output and second to last layer\n",
    "        for j, output_node_j in enumerate(self.nodes[-1]):\n",
    "            for k, weight_jk in enumerate(output_node_j.weights):\n",
    "                weight_jk -= eta * self.gradient[0][indexer]\n",
    "                output_node_j.weights[k] = weight_jk\n",
    "                indexer += 1\n",
    "        indexer = 0\n",
    "        \n",
    "        # update biases between output and second to last layer\n",
    "        for j, output_node_j in enumerate(self.nodes[-1]):\n",
    "            bias_j = output_node_j.bias - eta * self.gradient[1][indexer]\n",
    "            output_node_j.bias = bias_j\n",
    "            indexer += 1\n",
    "        indexer = 0\n",
    "\n",
    "        # TODO implement recursive backpropogation for multiple hidden layers\n",
    "        # update weights between hidden and previous layers\n",
    "        for L in range(1, self.n_hidden_layers + 1):  # note +1 must be used bc the range is not inclusive of upper\n",
    "            for j, hidden_node_j in enumerate(self.nodes[L]):\n",
    "                for k, weight_jk in enumerate(hidden_node_j.weights):\n",
    "                    weight_jk -= eta * self.gradient[2][indexer]\n",
    "                    hidden_node_j.weights[k] = weight_jk\n",
    "                    indexer += 1\n",
    "        indexer = 0\n",
    "\n",
    "        # update biases between hidden and previous layers\n",
    "        for L in range(1, self.n_hidden_layers + 1):  # note +1 must be used bc the range is not inclusive of upper\n",
    "            for j, hidden_node_j in enumerate(self.nodes[L]):\n",
    "                bias_j = output_node_j.bias - eta * self.gradient[3][indexer]\n",
    "                output_node_j.bias = bias_j\n",
    "                indexer += 1\n",
    "        indexer = 0\n",
    "\n",
    "    def evaluate(self, X_test, y_test):\n",
    "        errors = []\n",
    "        for i in range(len(X_test)):\n",
    "            prediction, error = self.forward_pass(X_test[i], y_test[i])\n",
    "            errors.append(error)\n",
    "        accuracy = 1 - np.mean(errors)\n",
    "        return accuracy\n",
    "                    \n",
    "    def show_weights(self):\n",
    "        for layer in mlp.nodes[1:]:\n",
    "            print([node.weights for node in layer])\n",
    "            "
   ]
  },
  {
   "cell_type": "code",
   "execution_count": 6,
   "id": "bba7e4cb-ae3b-4345-b0fe-8223bc9270b6",
   "metadata": {},
   "outputs": [],
   "source": [
    "# Create MLP\n",
    "\n",
    "mlp = MLP(NUM_INPUT_NODES, NUM_OUTPUT_NODES, NUM_HIDDEN_NODES, NUM_HIDDEN_LAYERS)"
   ]
  },
  {
   "cell_type": "code",
   "execution_count": 7,
   "id": "2218d43b-1610-4f06-8716-74c35f9f6ca5",
   "metadata": {},
   "outputs": [],
   "source": [
    "iris = load_iris()"
   ]
  },
  {
   "cell_type": "code",
   "execution_count": 8,
   "id": "2d235307-8bd9-4a23-b27a-94cf94135664",
   "metadata": {},
   "outputs": [],
   "source": [
    "X = iris.data\n",
    "scaler = StandardScaler()\n",
    "X = scaler.fit_transform(X)"
   ]
  },
  {
   "cell_type": "code",
   "execution_count": 9,
   "id": "8ca57396-6302-45a2-a836-ed94ef397462",
   "metadata": {},
   "outputs": [],
   "source": [
    "y = iris.target"
   ]
  },
  {
   "cell_type": "code",
   "execution_count": 10,
   "id": "cc6432e8-0f7f-4703-8df3-4908a1768fb1",
   "metadata": {
    "scrolled": true
   },
   "outputs": [],
   "source": [
    "# Number of classes\n",
    "num_classes = np.max(y) + 1\n",
    "\n",
    "# One-hot encode the target variable y\n",
    "y = np.eye(num_classes)[y]"
   ]
  },
  {
   "cell_type": "code",
   "execution_count": 11,
   "id": "7db7c623-d84b-4262-afa4-912dacea4563",
   "metadata": {},
   "outputs": [],
   "source": [
    "X_train, X_test, y_train, y_test = sklearn.model_selection.train_test_split(X, y, test_size=0.33)"
   ]
  },
  {
   "cell_type": "code",
   "execution_count": 12,
   "id": "7e11621e-e0e5-47cd-8bc1-0791ef083fc5",
   "metadata": {},
   "outputs": [
    {
     "data": {
      "text/plain": [
       "[0.008550063973365078,\n",
       " 0.002668564398180967,\n",
       " 0.004412557053966809,\n",
       " 0.004431645929655981,\n",
       " 0.0072307305183078145,\n",
       " 0.00656007176689906,\n",
       " 0.007753015120174991,\n",
       " 0.003753770835946022,\n",
       " 0.004535867735564161,\n",
       " 0.0030693487648559715,\n",
       " 0.005827119166942541]"
      ]
     },
     "execution_count": 12,
     "metadata": {},
     "output_type": "execute_result"
    }
   ],
   "source": [
    "mlp.nodes[-1][0].weights"
   ]
  },
  {
   "cell_type": "code",
   "execution_count": 13,
   "id": "601a188b-7c4c-40b3-9942-70a74bb75823",
   "metadata": {},
   "outputs": [
    {
     "name": "stdout",
     "output_type": "stream",
     "text": [
      "epoch 1\n",
      "epoch 2\n",
      "epoch 3\n",
      "epoch 4\n",
      "epoch 5\n",
      "epoch 6\n",
      "epoch 7\n",
      "epoch 8\n",
      "epoch 9\n",
      "epoch 10\n",
      "epoch 11\n",
      "epoch 12\n",
      "epoch 13\n",
      "epoch 14\n",
      "epoch 15\n",
      "epoch 16\n",
      "epoch 17\n",
      "epoch 18\n",
      "epoch 19\n",
      "epoch 20\n",
      "epoch 21\n",
      "epoch 22\n",
      "epoch 23\n",
      "epoch 24\n",
      "epoch 25\n",
      "epoch 26\n",
      "epoch 27\n",
      "epoch 28\n",
      "epoch 29\n",
      "epoch 30\n",
      "epoch 31\n",
      "epoch 32\n",
      "epoch 33\n",
      "epoch 34\n",
      "epoch 35\n",
      "epoch 36\n",
      "epoch 37\n",
      "epoch 38\n",
      "epoch 39\n",
      "epoch 40\n"
     ]
    }
   ],
   "source": [
    "# training loop\n",
    "learning_rate = 1.0\n",
    "epochs = 40\n",
    "errors = []\n",
    "for i in range(1, epochs+1):\n",
    "    print(\"epoch \" + str(i))\n",
    "    epoch_errors = []\n",
    "    for i, row in enumerate(X_train):\n",
    "        output, error = mlp.forward_pass(X_train[i], y_train[i])\n",
    "        epoch_errors.append(error)\n",
    "        mlp.compute_gradient(y_train[i])\n",
    "        mlp.update(learning_rate)\n",
    "    errors.append(np.mean(epoch_errors))"
   ]
  },
  {
   "cell_type": "code",
   "execution_count": 14,
   "id": "855f9440-581e-4309-9df4-8f82412b7701",
   "metadata": {},
   "outputs": [],
   "source": [
    "accuracy = mlp.evaluate(X_test, y_test)"
   ]
  },
  {
   "cell_type": "code",
   "execution_count": 15,
   "id": "63e09fb9-f315-44c8-8fab-d26314e10123",
   "metadata": {},
   "outputs": [
    {
     "data": {
      "text/plain": [
       "0.7851092070772651"
      ]
     },
     "execution_count": 15,
     "metadata": {},
     "output_type": "execute_result"
    }
   ],
   "source": [
    "accuracy"
   ]
  },
  {
   "cell_type": "code",
   "execution_count": 16,
   "id": "eca4bc7b-b2a1-45cf-8620-bf83a4342ac0",
   "metadata": {},
   "outputs": [
    {
     "data": {
      "image/png": "[encoded data removed]",
      "text/plain": [
       "<Figure size 640x480 with 1 Axes>"
      ]
     },
     "metadata": {},
     "output_type": "display_data"
    }
   ],
   "source": [
    "%matplotlib inline\n",
    "\n",
    "import matplotlib.pyplot as plt\n",
    "\n",
    "plt.plot(errors, marker='o',)\n",
    "plt.xlabel('Epoch')\n",
    "plt.ylabel('Average Error')\n",
    "plt.title('Average Error over Epochs')\n",
    "plt.show()\n"
   ]
  }
 ],
 "metadata": {
  "kernelspec": {
   "display_name": "Python 3 (ipykernel)",
   "language": "python",
   "name": "python3"
  },
  "language_info": {
   "codemirror_mode": {
    "name": "ipython",
    "version": 3
   },
   "file_extension": ".py",
   "mimetype": "text/x-python",
   "name": "python",
   "nbconvert_exporter": "python",
   "pygments_lexer": "ipython3",
   "version": "3.11.4"
  }
 },
 "nbformat": 4,
 "nbformat_minor": 5
}
