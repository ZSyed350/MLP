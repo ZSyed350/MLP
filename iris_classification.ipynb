{
 "cells": [
  {
   "cell_type": "code",
   "execution_count": 2,
   "id": "abf6ac32-30cd-4fa9-86a7-bc7ab0776dbb",
   "metadata": {},
   "outputs": [],
   "source": [
    "class Node:\n",
    "    def __init__(self, weight, bias):\n",
    "        self.weight = weight\n",
    "        self.bias = bias"
   ]
  },
  {
   "cell_type": "code",
   "execution_count": 4,
   "id": "028d5cab-e7b3-4106-ad22-38c83f4df33e",
   "metadata": {},
   "outputs": [],
   "source": [
    "# Declare constants\n",
    "\n",
    "NUM_INPUT_NODES = 4\n",
    "NUM_OUTPUT_NODES = 3\n",
    "NUM_HIDDEN_NODES = 10\n",
    "NUM_HIDDEN_LAYERS = 1"
   ]
  },
  {
   "cell_type": "code",
   "execution_count": 6,
   "id": "bba7e4cb-ae3b-4345-b0fe-8223bc9270b6",
   "metadata": {},
   "outputs": [
    {
     "ename": "NameError",
     "evalue": "name 'weight' is not defined",
     "output_type": "error",
     "traceback": [
      "\u001b[1;31m---------------------------------------------------------------------------\u001b[0m",
      "\u001b[1;31mNameError\u001b[0m                                 Traceback (most recent call last)",
      "Cell \u001b[1;32mIn[6], line 4\u001b[0m\n\u001b[0;32m      1\u001b[0m \u001b[38;5;66;03m# Initialize MLP\u001b[39;00m\n\u001b[0;32m      3\u001b[0m MLP \u001b[38;5;241m=\u001b[39m []\n\u001b[1;32m----> 4\u001b[0m input_layer \u001b[38;5;241m=\u001b[39m \u001b[43m[\u001b[49m\u001b[43mNode\u001b[49m\u001b[43m(\u001b[49m\u001b[43mweight\u001b[49m\u001b[43m,\u001b[49m\u001b[43m \u001b[49m\u001b[43mbias\u001b[49m\u001b[43m)\u001b[49m\u001b[43m \u001b[49m\u001b[38;5;28;43;01mfor\u001b[39;49;00m\u001b[43m \u001b[49m\u001b[43m_\u001b[49m\u001b[43m \u001b[49m\u001b[38;5;129;43;01min\u001b[39;49;00m\u001b[43m \u001b[49m\u001b[38;5;28;43mrange\u001b[39;49m\u001b[43m(\u001b[49m\u001b[43mNUM_INPUT_NODES\u001b[49m\u001b[43m)\u001b[49m\u001b[43m]\u001b[49m\n\u001b[0;32m      5\u001b[0m MLP\u001b[38;5;241m.\u001b[39mappend(input_layer)\n\u001b[0;32m      6\u001b[0m \u001b[38;5;28;01mfor\u001b[39;00m i \u001b[38;5;129;01min\u001b[39;00m \u001b[38;5;28mrange\u001b[39m(NUM_HIDDEN_LAYERS):\n",
      "Cell \u001b[1;32mIn[6], line 4\u001b[0m, in \u001b[0;36m<listcomp>\u001b[1;34m(.0)\u001b[0m\n\u001b[0;32m      1\u001b[0m \u001b[38;5;66;03m# Initialize MLP\u001b[39;00m\n\u001b[0;32m      3\u001b[0m MLP \u001b[38;5;241m=\u001b[39m []\n\u001b[1;32m----> 4\u001b[0m input_layer \u001b[38;5;241m=\u001b[39m [Node(\u001b[43mweight\u001b[49m, bias) \u001b[38;5;28;01mfor\u001b[39;00m _ \u001b[38;5;129;01min\u001b[39;00m \u001b[38;5;28mrange\u001b[39m(NUM_INPUT_NODES)]\n\u001b[0;32m      5\u001b[0m MLP\u001b[38;5;241m.\u001b[39mappend(input_layer)\n\u001b[0;32m      6\u001b[0m \u001b[38;5;28;01mfor\u001b[39;00m i \u001b[38;5;129;01min\u001b[39;00m \u001b[38;5;28mrange\u001b[39m(NUM_HIDDEN_LAYERS):\n",
      "\u001b[1;31mNameError\u001b[0m: name 'weight' is not defined"
     ]
    }
   ],
   "source": [
    "# Initialize MLP\n",
    "\n",
    "# how to initialize the weights and biases?\n",
    "\n",
    "MLP = []\n",
    "input_layer = [Node(weight, bias) for _ in range(NUM_INPUT_NODES)]\n",
    "MLP.append(input_layer)\n",
    "for i in range(NUM_HIDDEN_LAYERS):\n",
    "    MLP.append([Node(weight, bias) for _ in range(NUM_HIDDEN_NODES)])\n",
    "hidden_layer = [Node(weight, bias) for _ in range(NUM_OUTPUT_NODES)]"
   ]
  },
  {
   "cell_type": "code",
   "execution_count": null,
   "id": "4cbd583f-03d9-4d55-b2b0-faeafe9d5931",
   "metadata": {},
   "outputs": [],
   "source": []
  }
 ],
 "metadata": {
  "kernelspec": {
   "display_name": "Python 3 (ipykernel)",
   "language": "python",
   "name": "python3"
  },
  "language_info": {
   "codemirror_mode": {
    "name": "ipython",
    "version": 3
   },
   "file_extension": ".py",
   "mimetype": "text/x-python",
   "name": "python",
   "nbconvert_exporter": "python",
   "pygments_lexer": "ipython3",
   "version": "3.11.4"
  }
 },
 "nbformat": 4,
 "nbformat_minor": 5
}
